{
 "cells": [
  {
   "cell_type": "code",
   "execution_count": 1,
   "outputs": [
    {
     "name": "stdout",
     "text": [
      "data_generator loaded\n"
     ],
     "output_type": "stream"
    }
   ],
   "source": [
    "from typing import _KT, Optional, _VT_co, overload, Union, _T\n",
    "import data_generator"
   ],
   "metadata": {
    "collapsed": false,
    "pycharm": {
     "name": "#%%\n",
     "is_executing": false
    }
   }
  },
  {
   "cell_type": "code",
   "execution_count": 2,
   "outputs": [
    {
     "name": "stdout",
     "text": [
      "i'm aliiiiiiive\n"
     ],
     "output_type": "stream"
    }
   ],
   "source": [
    "data_generator.alive()"
   ],
   "metadata": {
    "collapsed": false,
    "pycharm": {
     "name": "#%%\n",
     "is_executing": false
    }
   }
  },
  {
   "cell_type": "code",
   "execution_count": 8,
   "outputs": [],
   "source": [
    "from data_generator.db_manager import db_managers "
   ],
   "metadata": {
    "collapsed": false,
    "pycharm": {
     "name": "#%%\n",
     "is_executing": false
    }
   }
  },
  {
   "cell_type": "code",
   "execution_count": null,
   "outputs": [],
   "source": [
    " with DbService() as db_service:\n",
    "        seccompte = AccountAccount(\n",
    "            name=\"secondcompte\"\n",
    "        )\n",
    "        aaa = AccountAnalyticAccount(\n",
    "            name=\"1010\",\n",
    "            group_id=5\n",
    "        )\n",
    "        aal = AccountAnalyticLine(\n",
    "            name=\"blabla\",\n",
    "            amount=1500,\n",
    "            account=aaa,\n",
    "            general_account=seccompte,\n",
    "            date=datetime.now()\n",
    "        )\n",
    "        db_service.pgsql_add(aal)\n",
    "        "
   ],
   "metadata": {
    "collapsed": false,
    "pycharm": {
     "name": "#%%\n"
    }
   }
  },
  {
   "cell_type": "code",
   "execution_count": 1,
   "outputs": [
    {
     "name": "stdout",
     "text": [
      "data_generator loaded\n"
     ],
     "output_type": "stream"
    }
   ],
   "source": [
    "from data_generator.services import account_analytic_account_service as aaa_service\n"
   ],
   "metadata": {
    "collapsed": false,
    "pycharm": {
     "name": "#%%\n",
     "is_executing": false
    }
   }
  },
  {
   "cell_type": "code",
   "execution_count": 2,
   "outputs": [
    {
     "data": {
      "text/plain": "'2157TFD'"
     },
     "metadata": {},
     "output_type": "execute_result",
     "execution_count": 2
    }
   ],
   "source": [
    "aaa_service.rand_numero()\n",
    "\n"
   ],
   "metadata": {
    "collapsed": false,
    "pycharm": {
     "name": "#%%\n",
     "is_executing": false
    }
   }
  },
  {
   "cell_type": "code",
   "execution_count": 3,
   "outputs": [
    {
     "name": "stdout",
     "text": [
      "Location\nLocal\nLocal\nLocal\nLocal\nLocation\nLocal\nLocal\nLocal\nLocal\n"
     ],
     "output_type": "stream"
    }
   ],
   "source": [
    "for _ in range(10):\n",
    "    print(aaa_service.rand_code_vehic())\n"
   ],
   "metadata": {
    "collapsed": false,
    "pycharm": {
     "name": "#%%\n",
     "is_executing": false
    }
   }
  },
  {
   "cell_type": "code",
   "execution_count": 2,
   "outputs": [
    {
     "name": "stdout",
     "text": [
      "AccountAnalyticAccount(active=None, code='Local', company_id=None, create_date=None, create_uid=None, group_id=None, id=None, message_main_attachment_id=None, name='5249TBA', partner_id=None, write_date=None, write_uid=None)\nAccountAnalyticAccount(active=None, code='Local', company_id=None, create_date=None, create_uid=None, group_id=None, id=None, message_main_attachment_id=None, name='8498TES', partner_id=None, write_date=None, write_uid=None)\nAccountAnalyticAccount(active=None, code='Local', company_id=None, create_date=None, create_uid=None, group_id=None, id=None, message_main_attachment_id=None, name='2192TXF', partner_id=None, write_date=None, write_uid=None)\nAccountAnalyticAccount(active=None, code='Local', company_id=None, create_date=None, create_uid=None, group_id=None, id=None, message_main_attachment_id=None, name='7162TZV', partner_id=None, write_date=None, write_uid=None)\nAccountAnalyticAccount(active=None, code='Local', company_id=None, create_date=None, create_uid=None, group_id=None, id=None, message_main_attachment_id=None, name='1494TBL', partner_id=None, write_date=None, write_uid=None)\nAccountAnalyticAccount(active=None, code='Local', company_id=None, create_date=None, create_uid=None, group_id=None, id=None, message_main_attachment_id=None, name='9340TRS', partner_id=None, write_date=None, write_uid=None)\nAccountAnalyticAccount(active=None, code='Local', company_id=None, create_date=None, create_uid=None, group_id=None, id=None, message_main_attachment_id=None, name='9032TLO', partner_id=None, write_date=None, write_uid=None)\nAccountAnalyticAccount(active=None, code='Local', company_id=None, create_date=None, create_uid=None, group_id=None, id=None, message_main_attachment_id=None, name='4672TKQ', partner_id=None, write_date=None, write_uid=None)\nAccountAnalyticAccount(active=None, code='Local', company_id=None, create_date=None, create_uid=None, group_id=None, id=None, message_main_attachment_id=None, name='5250TDG', partner_id=None, write_date=None, write_uid=None)\nAccountAnalyticAccount(active=None, code='Local', company_id=None, create_date=None, create_uid=None, group_id=None, id=None, message_main_attachment_id=None, name='9779TFN', partner_id=None, write_date=None, write_uid=None)\nAccountAnalyticAccount(active=None, code='Local', company_id=None, create_date=None, create_uid=None, group_id=None, id=None, message_main_attachment_id=None, name='5681TAF', partner_id=None, write_date=None, write_uid=None)\nAccountAnalyticAccount(active=None, code='Local', company_id=None, create_date=None, create_uid=None, group_id=None, id=None, message_main_attachment_id=None, name='4158TCR', partner_id=None, write_date=None, write_uid=None)\nAccountAnalyticAccount(active=None, code='Local', company_id=None, create_date=None, create_uid=None, group_id=None, id=None, message_main_attachment_id=None, name='9772TVU', partner_id=None, write_date=None, write_uid=None)\nAccountAnalyticAccount(active=None, code='Local', company_id=None, create_date=None, create_uid=None, group_id=None, id=None, message_main_attachment_id=None, name='8209TJB', partner_id=None, write_date=None, write_uid=None)\nAccountAnalyticAccount(active=None, code='Local', company_id=None, create_date=None, create_uid=None, group_id=None, id=None, message_main_attachment_id=None, name='2165TGX', partner_id=None, write_date=None, write_uid=None)\nAccountAnalyticAccount(active=None, code='Location', company_id=None, create_date=None, create_uid=None, group_id=None, id=None, message_main_attachment_id=None, name='6022TTR', partner_id=None, write_date=None, write_uid=None)\nAccountAnalyticAccount(active=None, code='Local', company_id=None, create_date=None, create_uid=None, group_id=None, id=None, message_main_attachment_id=None, name='7058TOE', partner_id=None, write_date=None, write_uid=None)\nAccountAnalyticAccount(active=None, code='Local', company_id=None, create_date=None, create_uid=None, group_id=None, id=None, message_main_attachment_id=None, name='6539TNC', partner_id=None, write_date=None, write_uid=None)\nAccountAnalyticAccount(active=None, code='Local', company_id=None, create_date=None, create_uid=None, group_id=None, id=None, message_main_attachment_id=None, name='6968TLE', partner_id=None, write_date=None, write_uid=None)\nAccountAnalyticAccount(active=None, code='Local', company_id=None, create_date=None, create_uid=None, group_id=None, id=None, message_main_attachment_id=None, name='1117TGR', partner_id=None, write_date=None, write_uid=None)\n"
     ],
     "output_type": "stream"
    }
   ],
   "source": [
    "aaa_records = aaa_service.gen_aaa_vehicle_model()\n",
    "for record in aaa_records:\n",
    "    print(record)\n"
   ],
   "metadata": {
    "collapsed": false,
    "pycharm": {
     "name": "#%%\n",
     "is_executing": false
    }
   }
  },
  {
   "cell_type": "code",
   "execution_count": 72,
   "outputs": [],
   "source": [
    "class MyDict(dict):\n",
    "    \n",
    "    @staticmethod\n",
    "    def __clean_key( keys):\n",
    "        sort_key = sorted(k.strip() for k in keys)\n",
    "        final_key = '|'.join(sort_key)\n",
    "        return final_key\n",
    "    \n",
    "    def __setitem__(self, keys: tuple, v)-> None:\n",
    "        super().__setitem__(self.__clean_key(keys), v)\n",
    "    \n",
    "    def __getitem__(self, keys: tuple):\n",
    "        return super().__getitem__(self.__clean_key(keys))\n",
    "            \n",
    "    def get(self, keys, default=None):\n",
    "        return super().get(self.__clean_key(keys), default)\n",
    "        \n",
    "    "
   ],
   "metadata": {
    "collapsed": false,
    "pycharm": {
     "name": "#%%\n",
     "is_executing": false
    }
   }
  },
  {
   "cell_type": "code",
   "execution_count": 73,
   "outputs": [],
   "source": [
    "d = MyDict()\n"
   ],
   "metadata": {
    "collapsed": false,
    "pycharm": {
     "name": "#%%\n",
     "is_executing": false
    }
   }
  },
  {
   "cell_type": "code",
   "execution_count": 74,
   "outputs": [],
   "source": [
    "d['a', 'b'] = 2\n"
   ],
   "metadata": {
    "collapsed": false,
    "pycharm": {
     "name": "#%%\n",
     "is_executing": false
    }
   }
  },
  {
   "cell_type": "code",
   "execution_count": 75,
   "outputs": [
    {
     "name": "stdout",
     "text": [
      "2",
      "\n2\n"
     ],
     "output_type": "stream"
    },
    {
     "traceback": [
      "\u001b[1;31m---------------------------------------------------------------------------\u001b[0m",
      "\u001b[1;31mKeyError\u001b[0m                                  Traceback (most recent call last)",
      "\u001b[1;32m<ipython-input-75-97113718e0a6>\u001b[0m in \u001b[0;36m<module>\u001b[1;34m\u001b[0m\n\u001b[0;32m      1\u001b[0m \u001b[0mprint\u001b[0m\u001b[1;33m(\u001b[0m\u001b[0md\u001b[0m\u001b[1;33m[\u001b[0m\u001b[1;34m'b'\u001b[0m\u001b[1;33m,\u001b[0m \u001b[1;34m'a'\u001b[0m\u001b[1;33m]\u001b[0m\u001b[1;33m)\u001b[0m\u001b[1;33m\u001b[0m\u001b[1;33m\u001b[0m\u001b[0m\n\u001b[0;32m      2\u001b[0m \u001b[0mprint\u001b[0m\u001b[1;33m(\u001b[0m\u001b[0md\u001b[0m\u001b[1;33m[\u001b[0m\u001b[1;34m'a'\u001b[0m\u001b[1;33m,\u001b[0m \u001b[1;34m'b'\u001b[0m\u001b[1;33m]\u001b[0m\u001b[1;33m)\u001b[0m\u001b[1;33m\u001b[0m\u001b[1;33m\u001b[0m\u001b[0m\n\u001b[1;32m----> 3\u001b[1;33m \u001b[0mprint\u001b[0m\u001b[1;33m(\u001b[0m\u001b[0md\u001b[0m\u001b[1;33m[\u001b[0m\u001b[1;34m'ax'\u001b[0m\u001b[1;33m,\u001b[0m \u001b[1;34m'b'\u001b[0m\u001b[1;33m]\u001b[0m\u001b[1;33m)\u001b[0m\u001b[1;33m\u001b[0m\u001b[1;33m\u001b[0m\u001b[0m\n\u001b[0m\u001b[0;32m      4\u001b[0m \u001b[1;33m\u001b[0m\u001b[0m\n",
      "\u001b[1;32m<ipython-input-72-f65e65eb5efb>\u001b[0m in \u001b[0;36m__getitem__\u001b[1;34m(self, keys)\u001b[0m\n\u001b[0;32m     11\u001b[0m \u001b[1;33m\u001b[0m\u001b[0m\n\u001b[0;32m     12\u001b[0m     \u001b[1;32mdef\u001b[0m \u001b[0m__getitem__\u001b[0m\u001b[1;33m(\u001b[0m\u001b[0mself\u001b[0m\u001b[1;33m,\u001b[0m \u001b[0mkeys\u001b[0m\u001b[1;33m:\u001b[0m \u001b[0mtuple\u001b[0m\u001b[1;33m)\u001b[0m\u001b[1;33m:\u001b[0m\u001b[1;33m\u001b[0m\u001b[1;33m\u001b[0m\u001b[0m\n\u001b[1;32m---> 13\u001b[1;33m         \u001b[1;32mreturn\u001b[0m \u001b[0msuper\u001b[0m\u001b[1;33m(\u001b[0m\u001b[1;33m)\u001b[0m\u001b[1;33m.\u001b[0m\u001b[0m__getitem__\u001b[0m\u001b[1;33m(\u001b[0m\u001b[0mself\u001b[0m\u001b[1;33m.\u001b[0m\u001b[0m__clean_key\u001b[0m\u001b[1;33m(\u001b[0m\u001b[0mkeys\u001b[0m\u001b[1;33m)\u001b[0m\u001b[1;33m)\u001b[0m\u001b[1;33m\u001b[0m\u001b[1;33m\u001b[0m\u001b[0m\n\u001b[0m\u001b[0;32m     14\u001b[0m \u001b[1;33m\u001b[0m\u001b[0m\n\u001b[0;32m     15\u001b[0m     \u001b[1;32mdef\u001b[0m \u001b[0mget\u001b[0m\u001b[1;33m(\u001b[0m\u001b[0mself\u001b[0m\u001b[1;33m,\u001b[0m \u001b[0mkeys\u001b[0m\u001b[1;33m,\u001b[0m \u001b[0mdefault\u001b[0m\u001b[1;33m=\u001b[0m\u001b[1;32mNone\u001b[0m\u001b[1;33m)\u001b[0m\u001b[1;33m:\u001b[0m\u001b[1;33m\u001b[0m\u001b[1;33m\u001b[0m\u001b[0m\n",
      "\u001b[1;31mKeyError\u001b[0m: 'ax|b'"
     ],
     "ename": "KeyError",
     "evalue": "'ax|b'",
     "output_type": "error"
    }
   ],
   "source": [
    "print(d['b', 'a'])\n",
    "print(d['a', 'b'])\n",
    "print(d['ax', 'b'])"
   ],
   "metadata": {
    "collapsed": false,
    "pycharm": {
     "name": "#%%\n",
     "is_executing": false
    }
   }
  },
  {
   "cell_type": "code",
   "execution_count": 76,
   "outputs": [
    {
     "name": "stdout",
     "text": [
      "23\n"
     ],
     "output_type": "stream"
    }
   ],
   "source": [
    "print(d.get(('a', 'bx'), '23'))\n"
   ],
   "metadata": {
    "collapsed": false,
    "pycharm": {
     "name": "#%%\n",
     "is_executing": false
    }
   }
  },
  {
   "cell_type": "code",
   "execution_count": null,
   "outputs": [],
   "source": [
    "d2 = dict()\n",
    "d2.get"
   ],
   "metadata": {
    "collapsed": false,
    "pycharm": {
     "name": "#%%\n"
    }
   }
  }
 ],
 "metadata": {
  "language_info": {
   "codemirror_mode": {
    "name": "ipython",
    "version": 2
   },
   "file_extension": ".py",
   "mimetype": "text/x-python",
   "name": "python",
   "nbconvert_exporter": "python",
   "pygments_lexer": "ipython2",
   "version": "2.7.6"
  },
  "kernelspec": {
   "name": "python3",
   "language": "python",
   "display_name": "Python 3"
  },
  "pycharm": {
   "stem_cell": {
    "cell_type": "raw",
    "source": [],
    "metadata": {
     "collapsed": false
    }
   }
  }
 },
 "nbformat": 4,
 "nbformat_minor": 0
}